{
 "cells": [
  {
   "cell_type": "code",
   "execution_count": 10,
   "metadata": {},
   "outputs": [
    {
     "name": "stdout",
     "output_type": "stream",
     "text": [
      "5\n",
      "4\n",
      "*****\n",
      "*****\n",
      "*****\n",
      "*****\n",
      "\n"
     ]
    }
   ],
   "source": [
    "n=int(input())\n",
    "m=int(input())\n",
    "print(('*'*n +'\\n')*m)"
   ]
  },
  {
   "cell_type": "code",
   "execution_count": 3,
   "metadata": {},
   "outputs": [
    {
     "name": "stdout",
     "output_type": "stream",
     "text": [
      "87.75\n"
     ]
    }
   ],
   "source": [
    "import math\n",
    "student={'python':80,'algorithm':99, 'django':89,'flask':83}\n",
    "\n",
    "avg=student.values()\n",
    "print(sum(avg)/4)"
   ]
  },
  {
   "cell_type": "code",
   "execution_count": 5,
   "metadata": {},
   "outputs": [],
   "source": [
    "blood_types=['A','B','A','O','AB','AB','O','A','B','O','B','AB']"
   ]
  },
  {
   "cell_type": "code",
   "execution_count": 7,
   "metadata": {},
   "outputs": [
    {
     "name": "stdout",
     "output_type": "stream",
     "text": [
      "혈액형 A 3명, 혈액형 B 3명,혈액형 O 3명,혈액형 AB 3명\n"
     ]
    }
   ],
   "source": [
    "count_a=0\n",
    "count_b=0\n",
    "count_ab=0\n",
    "count_o=0\n",
    "for i in blood_types:\n",
    "    if i =='A':\n",
    "        count_a+=1\n",
    "    elif i=='B':\n",
    "        count_b+=1\n",
    "    elif i=='AB':\n",
    "        count_ab+=1\n",
    "    elif i=='O':\n",
    "        count_o+=1\n",
    "        \n",
    "print(f'혈액형 A {count_a}명, 혈액형 B {count_b}명,혈액형 O {count_o}명,혈액형 AB {count_ab}명')"
   ]
  },
  {
   "cell_type": "code",
   "execution_count": null,
   "metadata": {},
   "outputs": [],
   "source": []
  },
  {
   "cell_type": "code",
   "execution_count": null,
   "metadata": {},
   "outputs": [],
   "source": []
  }
 ],
 "metadata": {
  "kernelspec": {
   "display_name": "Python 3",
   "language": "python",
   "name": "python3"
  },
  "language_info": {
   "codemirror_mode": {
    "name": "ipython",
    "version": 3
   },
   "file_extension": ".py",
   "mimetype": "text/x-python",
   "name": "python",
   "nbconvert_exporter": "python",
   "pygments_lexer": "ipython3",
   "version": "3.7.1"
  }
 },
 "nbformat": 4,
 "nbformat_minor": 2
}
